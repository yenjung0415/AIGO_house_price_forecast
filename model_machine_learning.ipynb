{
 "cells": [
  {
   "cell_type": "markdown",
   "metadata": {},
   "source": [
    "## 讀檔"
   ]
  },
  {
   "cell_type": "code",
   "execution_count": 1,
   "metadata": {},
   "outputs": [
    {
     "name": "stdout",
     "output_type": "stream",
     "text": [
      "Index(['ID', '縣市', '鄉鎮市區', '路名', '土地面積', '使用分區', '移轉層次', '總樓層數', '主要用途',\n",
      "       '主要建材', '建物型態', '屋齡', '建物面積', '車位面積', '車位個數', '橫坐標', '縱坐標', '備註',\n",
      "       '主建物面積', '陽台面積', '附屬建物面積', '單價', '縣市最低單價', '縣市最高單價', '縣市平均單價',\n",
      "       '縣市單價中位數', '鄉鎮市區最低單價', '鄉鎮市區最高單價', '鄉鎮市區平均單價', '鄉鎮市區單價中位數', '該路段最低單價',\n",
      "       '該路段最高單價', '該路段平均單價', '該路段單價中位數', 'WGS84_LAT', 'WGS84_LON', '國小數量',\n",
      "       '國中數量', '高中數量', '大學數量', '火車站點數量', '郵局數量', '金融機構數量', '醫院診所數量'],\n",
      "      dtype='object')\n",
      "(11751, 44)\n",
      "Index(['ID', '縣市', '鄉鎮市區', '路名', '土地面積', '使用分區', '移轉層次', '總樓層數', '主要用途',\n",
      "       '主要建材', '建物型態', '屋齡', '建物面積', '車位面積', '車位個數', '橫坐標', '縱坐標', '備註',\n",
      "       '主建物面積', '陽台面積', '附屬建物面積', '縣市最低單價', '縣市最高單價', '縣市平均單價', '縣市單價中位數',\n",
      "       '鄉鎮市區最低單價', '鄉鎮市區最高單價', '鄉鎮市區平均單價', '鄉鎮市區單價中位數', '該路段最低單價', '該路段最高單價',\n",
      "       '該路段平均單價', '該路段單價中位數', 'WGS84_LAT', 'WGS84_LON', '國小數量', '國中數量', '高中數量',\n",
      "       '大學數量', '火車站點數量', '郵局數量', '金融機構數量', '醫院診所數量'],\n",
      "      dtype='object')\n",
      "(11751, 43)\n"
     ]
    }
   ],
   "source": [
    "import pandas as pd\n",
    "import numpy as np\n",
    "import matplotlib.pyplot as plt\n",
    "import seaborn as sns\n",
    "\n",
    "# 原始data\n",
    "# df = pd.read_csv('C:\\lab\\\\aigo\\\\30_Training Dataset_V2\\\\training_data.csv')\n",
    "# test_data = pd.read_csv('C:\\lab\\\\aigo\\\\30_Private Dataset _Private and Publict Submission Template_v2\\public_private_dataset.csv')\n",
    "\n",
    "# 已生成部分特徵的data\n",
    "df = pd.read_csv('C:\\lab\\\\aigo\\\\30_Training Dataset_V2\\\\training_data_processed.csv')\n",
    "test_data = pd.read_csv('C:\\lab\\\\aigo\\\\30_Private Dataset _Private and Publict Submission Template_v2\\public_private_dataset_process_with_price.csv')\n",
    "print(df.columns)\n",
    "print(df.shape)\n",
    "\n",
    "print(test_data.columns)\n",
    "print(test_data.shape)"
   ]
  },
  {
   "cell_type": "markdown",
   "metadata": {},
   "source": [
    "## 資料前處理"
   ]
  },
  {
   "cell_type": "code",
   "execution_count": 2,
   "metadata": {},
   "outputs": [],
   "source": [
    "from sklearn.preprocessing import LabelEncoder\n",
    "labelencoder = LabelEncoder()"
   ]
  },
  {
   "cell_type": "code",
   "execution_count": 3,
   "metadata": {},
   "outputs": [],
   "source": [
    "# 使用 LabelEncoder 將文字資料轉換為數值\n",
    "\n",
    "def oneHotEncode(df, col_list):\n",
    "    df = pd.get_dummies(df, columns=col_list,dtype=int)\n",
    "    return df\n",
    "\n",
    "\n",
    "def labelEncode(df, col_list):\n",
    "    for col in col_list:\n",
    "        df[col] = labelencoder.fit_transform(df[col])\n",
    "    return df\n",
    "\n",
    "\n",
    "# 處理數值特徵的偏移值\n",
    "# 將負數進行平移，使其成為正數，並與正數保持平移前的相對關係\n",
    "def offset_cal(df, col_list):\n",
    "    for col in col_list:\n",
    "        offset = abs(min(df[col]))\n",
    "        df[col] = df[col] + offset\n",
    "    return df\n"
   ]
  },
  {
   "cell_type": "code",
   "execution_count": 4,
   "metadata": {},
   "outputs": [],
   "source": [
    "# 用於解決因使用dummies導致資料得column不一致的狀態，為data加上不存在的col，並補上0的值\n",
    "def make_columns_consistent(data_1st, data_2nd, default_value = 0):\n",
    "    # 取得train data、test data的column name\n",
    "    train_columns = set(data_1st.columns)\n",
    "    test_columns = set(data_2nd.columns)\n",
    "\n",
    "    # 檢查兩個data中是否存在額外的column\n",
    "    missing_columns_1st = test_columns - train_columns\n",
    "    missing_columns_2nd = train_columns - test_columns\n",
    "\n",
    "    # 將存在於data_2nd 但不存在data_1st的column加入 data_1st，並將該值設為0\n",
    "    for col in missing_columns_1st:\n",
    "        data_1st[col] = default_value  # 可以根据问题需要设置不同的默认值\n",
    "    \n",
    "    # 將存在於data_1st 但不存在data_2nd的column加入 data_2nd，並將該值設為0\n",
    "    for col in missing_columns_2nd:\n",
    "        data_2nd[col] = default_value  # 可以根据问题需要设置不同的默认值\n",
    "\n",
    "    return data_1st,data_2nd"
   ]
  },
  {
   "cell_type": "markdown",
   "metadata": {},
   "source": [
    "#### train data 前處理"
   ]
  },
  {
   "cell_type": "code",
   "execution_count": 5,
   "metadata": {},
   "outputs": [],
   "source": [
    "# col_list = ['縣市', '主要用途', '主要建材', '建物型態']\n",
    "# df = oneHotEncode(df, col_list)\n",
    "\n",
    "# col_list = ['鄉鎮市區', '路名']\n",
    "all_col = ['縣市', '鄉鎮市區', '路名', '主要用途', '主要建材', '建物型態']\n",
    "df = labelEncode(df, all_col)\n",
    "\n",
    "# 處理數值特徵的偏移值\n",
    "offset_col = ['土地面積', '建物面積', '車位面積', '主建物面積', '陽台面積', '附屬建物面積']\n",
    "df = offset_cal(df, offset_col)\n",
    "\n",
    "# 將房子所除樓層進行處理\n",
    "df['樓層'] = df['移轉層次']/df['總樓層數']\n",
    "\n",
    "# 刪除ID、string的資料\n",
    "df = df.drop(['ID', '縣市', '鄉鎮市區', '路名', '使用分區', '主要用途', '橫坐標', '縱坐標', '備註','醫院診所數量', '郵局數量', '金融機構數量', '縣市最低單價',\n",
    "              '縣市最高單價', '縣市平均單價', '縣市單價中位數', '鄉鎮市區最低單價', '鄉鎮市區最高單價', '鄉鎮市區單價中位數','該路段最低單價', '該路段最高單價'], \n",
    "              axis=1)\n",
    "# df = df.drop(['ID', '縣市', '使用分區', '移轉層次', '總樓層數', '建物面積', '備註', '縣市最低單價', '縣市最高單價', '縣市平均單價', '縣市單價中位數', '鄉鎮市區最低單價', '鄉鎮市區最高單價', '鄉鎮市區單價中位數', '該路段最低單價',\n",
    "#        '該路段最高單價'], axis=1)\n",
    "x = df.drop(['單價'], axis=1)\n",
    "y = df['單價']\n"
   ]
  },
  {
   "cell_type": "markdown",
   "metadata": {},
   "source": [
    "#### test data 前處理"
   ]
  },
  {
   "cell_type": "code",
   "execution_count": 6,
   "metadata": {},
   "outputs": [
    {
     "data": {
      "text/plain": [
       "Index(['土地面積', '移轉層次', '總樓層數', '主要建材', '建物型態', '屋齡', '建物面積', '車位面積', '車位個數',\n",
       "       '主建物面積', '陽台面積', '附屬建物面積', '鄉鎮市區平均單價', '該路段平均單價', '該路段單價中位數',\n",
       "       'WGS84_LAT', 'WGS84_LON', '國小數量', '國中數量', '高中數量', '大學數量', '火車站點數量',\n",
       "       '樓層'],\n",
       "      dtype='object')"
      ]
     },
     "execution_count": 6,
     "metadata": {},
     "output_type": "execute_result"
    }
   ],
   "source": [
    "# col_list = ['縣市', '主要用途', '主要建材', '建物型態']\n",
    "# test_data = labelEncode(test_data, col_list)\n",
    "# test_data = oneHotEncode(test_data, col_list)\n",
    "\n",
    "# col_list = ['鄉鎮市區', '路名']\n",
    "all_col = ['縣市', '鄉鎮市區', '路名', '主要用途', '主要建材', '建物型態']\n",
    "test_data = labelEncode(test_data, all_col)\n",
    "\n",
    "# 處理數值特徵的偏移值\n",
    "offset_col = ['土地面積', '建物面積', '車位面積', '主建物面積', '陽台面積', '附屬建物面積']\n",
    "test_data = offset_cal(test_data, offset_col)\n",
    "\n",
    "# 將房子所除樓層進行處理\n",
    "test_data['樓層'] = test_data['移轉層次']/test_data['總樓層數']\n",
    "\n",
    "# 刪除ID、string的資料\n",
    "# test_data = test_data.drop(['ID','縣市', '鄉鎮市區', '路名', '使用分區', '主要用途', '橫坐標', '縱坐標', '備註'], axis=1)\n",
    "test_data = test_data.drop(['ID', '縣市', '鄉鎮市區', '路名', '使用分區', '主要用途', '橫坐標', '縱坐標', '備註','醫院診所數量', '郵局數量', '金融機構數量', '縣市最低單價', \n",
    "                            '縣市最高單價', '縣市平均單價', '縣市單價中位數', '鄉鎮市區最低單價', '鄉鎮市區最高單價', '鄉鎮市區單價中位數','該路段最低單價', '該路段最高單價'], \n",
    "                            axis=1)\n",
    "# test_data = test_data.drop(['ID', '縣市', '使用分區', '移轉層次', '總樓層數', '建物面積', '備註', '縣市最低單價', '縣市最高單價', '縣市平均單價', '縣市單價中位數', '鄉鎮市區最低單價', '鄉鎮市區最高單價', '鄉鎮市區單價中位數', '該路段最低單價',\n",
    "#        '該路段最高單價'], axis=1)\n",
    "test_data.columns"
   ]
  },
  {
   "cell_type": "code",
   "execution_count": 7,
   "metadata": {},
   "outputs": [
    {
     "name": "stdout",
     "output_type": "stream",
     "text": [
      "x.shape:  (11751, 23)\n",
      "test_data.shape:  (11751, 23)\n"
     ]
    }
   ],
   "source": [
    "print(\"x.shape: \",x.shape)\n",
    "print(\"test_data.shape: \",test_data.shape)"
   ]
  },
  {
   "cell_type": "code",
   "execution_count": 8,
   "metadata": {},
   "outputs": [
    {
     "name": "stdout",
     "output_type": "stream",
     "text": [
      "Index(['土地面積', '移轉層次', '總樓層數', '主要建材', '建物型態', '屋齡', '建物面積', '車位面積', '車位個數',\n",
      "       '主建物面積', '陽台面積', '附屬建物面積', '鄉鎮市區平均單價', '該路段平均單價', '該路段單價中位數',\n",
      "       'WGS84_LAT', 'WGS84_LON', '國小數量', '國中數量', '高中數量', '大學數量', '火車站點數量',\n",
      "       '樓層'],\n",
      "      dtype='object')\n",
      "Index(['土地面積', '移轉層次', '總樓層數', '主要建材', '建物型態', '屋齡', '建物面積', '車位面積', '車位個數',\n",
      "       '主建物面積', '陽台面積', '附屬建物面積', '鄉鎮市區平均單價', '該路段平均單價', '該路段單價中位數',\n",
      "       'WGS84_LAT', 'WGS84_LON', '國小數量', '國中數量', '高中數量', '大學數量', '火車站點數量',\n",
      "       '樓層'],\n",
      "      dtype='object')\n"
     ]
    }
   ],
   "source": [
    "print(x.columns)\n",
    "print(test_data.columns)"
   ]
  },
  {
   "cell_type": "markdown",
   "metadata": {},
   "source": [
    "#### 解決因使用dummies導致資料得column不一致的狀態"
   ]
  },
  {
   "cell_type": "code",
   "execution_count": 9,
   "metadata": {},
   "outputs": [],
   "source": [
    "# 解決因使用dummies導致資料得column不一致的狀態\n",
    "x, test_data = make_columns_consistent(x, test_data)"
   ]
  },
  {
   "cell_type": "code",
   "execution_count": 10,
   "metadata": {},
   "outputs": [
    {
     "name": "stdout",
     "output_type": "stream",
     "text": [
      "x.shape:  (11751, 23)\n",
      "x.shape:  23\n",
      "test_data.shape:  (11751, 23)\n"
     ]
    }
   ],
   "source": [
    "print(\"x.shape: \",x.shape)\n",
    "print(\"x.shape: \",x.shape[1])\n",
    "print(\"test_data.shape: \",test_data.shape)"
   ]
  },
  {
   "cell_type": "code",
   "execution_count": null,
   "metadata": {},
   "outputs": [],
   "source": [
    "x.columns\n"
   ]
  },
  {
   "cell_type": "code",
   "execution_count": null,
   "metadata": {},
   "outputs": [],
   "source": [
    "len(x.columns)"
   ]
  },
  {
   "cell_type": "code",
   "execution_count": null,
   "metadata": {},
   "outputs": [],
   "source": [
    "test_data.columns"
   ]
  },
  {
   "cell_type": "code",
   "execution_count": null,
   "metadata": {},
   "outputs": [],
   "source": [
    "# # 找出包含小于 0 的值的行和列\n",
    "# rows, cols = np.where(x < 0)\n",
    "\n",
    "# # 打印包含小于 0 的值的行和列\n",
    "# for row, col in zip(rows, cols):\n",
    "#     print(f\"Row {row}, Column {df.columns[col]}: {df.iloc[row, col]}\")"
   ]
  },
  {
   "cell_type": "markdown",
   "metadata": {},
   "source": [
    "## 特徵篩選"
   ]
  },
  {
   "cell_type": "code",
   "execution_count": 11,
   "metadata": {},
   "outputs": [],
   "source": [
    "from sklearn.feature_selection import SelectKBest, mutual_info_regression, f_regression\n",
    "from sklearn.feature_selection import chi2  # 选择合适的评分函数，如卡方检验"
   ]
  },
  {
   "cell_type": "code",
   "execution_count": 12,
   "metadata": {},
   "outputs": [],
   "source": [
    "# SelectKBest 實例，使用 f_regression 評分函數\n",
    "selector = SelectKBest(score_func=f_regression, k=15)  # 選擇最重要的 K 個特徵\n",
    "\n",
    "selector.fit_transform(x, y)\n",
    "\n",
    "selected_features = selector.get_support()"
   ]
  },
  {
   "cell_type": "code",
   "execution_count": 13,
   "metadata": {},
   "outputs": [
    {
     "name": "stdout",
     "output_type": "stream",
     "text": [
      "x shape: (11751, 23)\n",
      "selected_features shape: (23,)\n"
     ]
    }
   ],
   "source": [
    "print(\"x shape:\", x.shape)\n",
    "print(\"selected_features shape:\", selected_features.shape)"
   ]
  },
  {
   "cell_type": "code",
   "execution_count": null,
   "metadata": {},
   "outputs": [],
   "source": [
    "# selected_features"
   ]
  },
  {
   "cell_type": "code",
   "execution_count": null,
   "metadata": {},
   "outputs": [],
   "source": [
    "# x.columns[selected_features]"
   ]
  },
  {
   "cell_type": "code",
   "execution_count": null,
   "metadata": {},
   "outputs": [],
   "source": [
    "# x = x[x.columns[selected_features]]\n",
    "# x"
   ]
  },
  {
   "cell_type": "code",
   "execution_count": null,
   "metadata": {},
   "outputs": [],
   "source": [
    "# test_data = test_data[test_data.columns[selected_features]]\n",
    "# test_data"
   ]
  },
  {
   "cell_type": "markdown",
   "metadata": {},
   "source": [
    "## 模型訓練"
   ]
  },
  {
   "cell_type": "markdown",
   "metadata": {},
   "source": [
    "### import package、自定義dataset、定義模型"
   ]
  },
  {
   "cell_type": "code",
   "execution_count": 14,
   "metadata": {},
   "outputs": [],
   "source": [
    "import torch\n",
    "import torch.nn as nn\n",
    "import torch.optim as optim\n",
    "from sklearn.model_selection import train_test_split\n",
    "from sklearn.preprocessing import StandardScaler\n",
    "from tqdm import tqdm\n",
    "from torch.utils.data import Dataset, DataLoader\n",
    "\n",
    "from xgboost import XGBClassifier\n",
    "from xgboost import XGBRegressor\n",
    "import lightgbm as lgb\n",
    "from sklearn.ensemble import RandomForestRegressor\n",
    "from sklearn.ensemble import ExtraTreesRegressor\n",
    "\n",
    "from sklearn.metrics import mean_absolute_error, mean_squared_error, r2_score\n",
    "from sklearn.metrics import make_scorer\n",
    "from sklearn.model_selection import cross_val_score\n",
    "\n",
    "\n",
    "class CustomDataset(Dataset):\n",
    "    def __init__(self, X, y):\n",
    "        self.X = X\n",
    "        self.y = y\n",
    "\n",
    "    def __len__(self):\n",
    "        return len(self.X)\n",
    "\n",
    "    def __getitem__(self, index):\n",
    "        return self.X[index], self.y[index]\n",
    "\n",
    "\n",
    "# 自定義 MAPE 評估函數\n",
    "def mape_eval(y_pred, data):\n",
    "    y_true = data.get_label()\n",
    "    mape = np.mean(np.abs((y_true - y_pred) / y_true)) * 100\n",
    "    return 'MAPE', mape, False\n",
    "\n"
   ]
  },
  {
   "cell_type": "markdown",
   "metadata": {},
   "source": [
    "#### 模型"
   ]
  },
  {
   "cell_type": "markdown",
   "metadata": {},
   "source": [
    "### data進行transform及切割"
   ]
  },
  {
   "cell_type": "code",
   "execution_count": 15,
   "metadata": {},
   "outputs": [],
   "source": [
    "# 標準化特徵\n",
    "scaler = StandardScaler()\n",
    "X_train = scaler.fit_transform(x)\n",
    "\n",
    "# 將數據劃分為訓練集和測試集\n",
    "X_train, X_val, y_train, y_val = train_test_split(X_train, y, test_size=0.2, random_state=42)"
   ]
  },
  {
   "cell_type": "code",
   "execution_count": 16,
   "metadata": {},
   "outputs": [],
   "source": [
    "# print('X_train ',type(X_train))\n",
    "# print('X_val ',type(X_val))\n",
    "\n",
    "# print('y_train ',type(y_train))\n",
    "# print('y_val ',type(y_val))\n"
   ]
  },
  {
   "cell_type": "code",
   "execution_count": 17,
   "metadata": {},
   "outputs": [],
   "source": [
    "def mean_absolute_percentage_error(y_true, y_pred): \n",
    "    y_true, y_pred = np.array(y_true), np.array(y_pred)\n",
    "    return np.mean(np.abs((y_true - y_pred) / y_true)) * 100\n"
   ]
  },
  {
   "cell_type": "markdown",
   "metadata": {},
   "source": [
    "### 查看是否有gpu、定義loss及optimizer"
   ]
  },
  {
   "cell_type": "code",
   "execution_count": 18,
   "metadata": {},
   "outputs": [
    {
     "data": {
      "text/html": [
       "<style>#sk-container-id-1 {color: black;}#sk-container-id-1 pre{padding: 0;}#sk-container-id-1 div.sk-toggleable {background-color: white;}#sk-container-id-1 label.sk-toggleable__label {cursor: pointer;display: block;width: 100%;margin-bottom: 0;padding: 0.3em;box-sizing: border-box;text-align: center;}#sk-container-id-1 label.sk-toggleable__label-arrow:before {content: \"▸\";float: left;margin-right: 0.25em;color: #696969;}#sk-container-id-1 label.sk-toggleable__label-arrow:hover:before {color: black;}#sk-container-id-1 div.sk-estimator:hover label.sk-toggleable__label-arrow:before {color: black;}#sk-container-id-1 div.sk-toggleable__content {max-height: 0;max-width: 0;overflow: hidden;text-align: left;background-color: #f0f8ff;}#sk-container-id-1 div.sk-toggleable__content pre {margin: 0.2em;color: black;border-radius: 0.25em;background-color: #f0f8ff;}#sk-container-id-1 input.sk-toggleable__control:checked~div.sk-toggleable__content {max-height: 200px;max-width: 100%;overflow: auto;}#sk-container-id-1 input.sk-toggleable__control:checked~label.sk-toggleable__label-arrow:before {content: \"▾\";}#sk-container-id-1 div.sk-estimator input.sk-toggleable__control:checked~label.sk-toggleable__label {background-color: #d4ebff;}#sk-container-id-1 div.sk-label input.sk-toggleable__control:checked~label.sk-toggleable__label {background-color: #d4ebff;}#sk-container-id-1 input.sk-hidden--visually {border: 0;clip: rect(1px 1px 1px 1px);clip: rect(1px, 1px, 1px, 1px);height: 1px;margin: -1px;overflow: hidden;padding: 0;position: absolute;width: 1px;}#sk-container-id-1 div.sk-estimator {font-family: monospace;background-color: #f0f8ff;border: 1px dotted black;border-radius: 0.25em;box-sizing: border-box;margin-bottom: 0.5em;}#sk-container-id-1 div.sk-estimator:hover {background-color: #d4ebff;}#sk-container-id-1 div.sk-parallel-item::after {content: \"\";width: 100%;border-bottom: 1px solid gray;flex-grow: 1;}#sk-container-id-1 div.sk-label:hover label.sk-toggleable__label {background-color: #d4ebff;}#sk-container-id-1 div.sk-serial::before {content: \"\";position: absolute;border-left: 1px solid gray;box-sizing: border-box;top: 0;bottom: 0;left: 50%;z-index: 0;}#sk-container-id-1 div.sk-serial {display: flex;flex-direction: column;align-items: center;background-color: white;padding-right: 0.2em;padding-left: 0.2em;position: relative;}#sk-container-id-1 div.sk-item {position: relative;z-index: 1;}#sk-container-id-1 div.sk-parallel {display: flex;align-items: stretch;justify-content: center;background-color: white;position: relative;}#sk-container-id-1 div.sk-item::before, #sk-container-id-1 div.sk-parallel-item::before {content: \"\";position: absolute;border-left: 1px solid gray;box-sizing: border-box;top: 0;bottom: 0;left: 50%;z-index: -1;}#sk-container-id-1 div.sk-parallel-item {display: flex;flex-direction: column;z-index: 1;position: relative;background-color: white;}#sk-container-id-1 div.sk-parallel-item:first-child::after {align-self: flex-end;width: 50%;}#sk-container-id-1 div.sk-parallel-item:last-child::after {align-self: flex-start;width: 50%;}#sk-container-id-1 div.sk-parallel-item:only-child::after {width: 0;}#sk-container-id-1 div.sk-dashed-wrapped {border: 1px dashed gray;margin: 0 0.4em 0.5em 0.4em;box-sizing: border-box;padding-bottom: 0.4em;background-color: white;}#sk-container-id-1 div.sk-label label {font-family: monospace;font-weight: bold;display: inline-block;line-height: 1.2em;}#sk-container-id-1 div.sk-label-container {text-align: center;}#sk-container-id-1 div.sk-container {/* jupyter's `normalize.less` sets `[hidden] { display: none; }` but bootstrap.min.css set `[hidden] { display: none !important; }` so we also need the `!important` here to be able to override the default hidden behavior on the sphinx rendered scikit-learn.org. See: https://github.com/scikit-learn/scikit-learn/issues/21755 */display: inline-block !important;position: relative;}#sk-container-id-1 div.sk-text-repr-fallback {display: none;}</style><div id=\"sk-container-id-1\" class=\"sk-top-container\"><div class=\"sk-text-repr-fallback\"><pre>ExtraTreesRegressor(n_estimators=300, random_state=42)</pre><b>In a Jupyter environment, please rerun this cell to show the HTML representation or trust the notebook. <br />On GitHub, the HTML representation is unable to render, please try loading this page with nbviewer.org.</b></div><div class=\"sk-container\" hidden><div class=\"sk-item\"><div class=\"sk-estimator sk-toggleable\"><input class=\"sk-toggleable__control sk-hidden--visually\" id=\"sk-estimator-id-1\" type=\"checkbox\" checked><label for=\"sk-estimator-id-1\" class=\"sk-toggleable__label sk-toggleable__label-arrow\">ExtraTreesRegressor</label><div class=\"sk-toggleable__content\"><pre>ExtraTreesRegressor(n_estimators=300, random_state=42)</pre></div></div></div></div></div>"
      ],
      "text/plain": [
       "ExtraTreesRegressor(n_estimators=300, random_state=42)"
      ]
     },
     "execution_count": 18,
     "metadata": {},
     "output_type": "execute_result"
    }
   ],
   "source": [
    "# 检查是否有可用的GPU，如果有，选择第一个可用的GPU\n",
    "if torch.cuda.is_available():\n",
    "    device = torch.device(\"cuda:0\")\n",
    "else:\n",
    "    device = torch.device(\"cpu\")"
   ]
  },
  {
   "cell_type": "markdown",
   "metadata": {},
   "source": [
    "## XGBRegressor"
   ]
  },
  {
   "cell_type": "code",
   "execution_count": null,
   "metadata": {},
   "outputs": [],
   "source": [
    "# XGBRegressor\n",
    "# model = XGBRegressor(learning_rate=0.1,)\n",
    "# model.fit(X_train, y_train, eval_set=[(X_val, y_val)], eval_metric=['rmse', 'mae'], early_stopping_rounds=10) "
   ]
  },
  {
   "cell_type": "markdown",
   "metadata": {},
   "source": [
    "## LightGBM"
   ]
  },
  {
   "cell_type": "code",
   "execution_count": null,
   "metadata": {},
   "outputs": [],
   "source": [
    "# LightGBM\n",
    "model = lgb.LGBMRegressor()\n",
    "model.fit(X_train, y_train)\n",
    "\n",
    "\n",
    "# 创建 LightGBM 模型并使用自定义评估函数\n",
    "train_data = lgb.Dataset(X_train, label=y_train)\n",
    "valid_data = lgb.Dataset(X_val, label=y_val, reference=train_data)\n",
    "\n",
    "params = {\n",
    "    'objective': 'regression',\n",
    "    'metric': 'mae',    # MAE仅用于监控训练过程，而不是最终评估指标\n",
    "    # 其他参数\n",
    "} \n",
    "model = lgb.train(params, train_data, valid_sets=[valid_data], feval=mape_eval, early_stopping_rounds=10, num_boost_round=1000)"
   ]
  },
  {
   "cell_type": "markdown",
   "metadata": {},
   "source": [
    "## RandomForestRegressor"
   ]
  },
  {
   "cell_type": "code",
   "execution_count": null,
   "metadata": {},
   "outputs": [],
   "source": [
    "# RandomForestRegressor\n",
    "model = RandomForestRegressor(n_estimators=100, random_state=42)  # 可根据需要调整超参数\n",
    "model.fit(X_train, y_train)\n"
   ]
  },
  {
   "cell_type": "markdown",
   "metadata": {},
   "source": [
    "##　ExtraTreesRegressor"
   ]
  },
  {
   "cell_type": "code",
   "execution_count": null,
   "metadata": {},
   "outputs": [],
   "source": [
    "#　ExtraTreesRegressor\n",
    "model = ExtraTreesRegressor(n_estimators=300, random_state=42)\n",
    "model.fit(X_train, y_train)"
   ]
  },
  {
   "cell_type": "code",
   "execution_count": 19,
   "metadata": {},
   "outputs": [],
   "source": [
    "y_pred = model.predict(X_val)"
   ]
  },
  {
   "cell_type": "code",
   "execution_count": 20,
   "metadata": {},
   "outputs": [
    {
     "name": "stdout",
     "output_type": "stream",
     "text": [
      "Mean Squared Error: 0.10868655487413895\n",
      "Mean Absolute Error: 0.15025042854381263\n",
      "R-squared: 0.8911702213531817\n",
      "Mean Absolute Percentage Error (MAPE): 7.672704195666823\n"
     ]
    }
   ],
   "source": [
    "mse = mean_squared_error(y_val, y_pred)\n",
    "mae = mean_absolute_error(y_val, y_pred)\n",
    "r2 = r2_score(y_val, y_pred)\n",
    "mape = mean_absolute_percentage_error(y_val, y_pred)\n",
    "\n",
    "print(\"Mean Squared Error:\", mse)\n",
    "print(\"Mean Absolute Error:\", mae)\n",
    "print(\"R-squared:\", r2)\n",
    "print(\"Mean Absolute Percentage Error (MAPE):\", mape)\n"
   ]
  },
  {
   "cell_type": "markdown",
   "metadata": {},
   "source": [
    "## 使用欲預測的data進行test"
   ]
  },
  {
   "cell_type": "markdown",
   "metadata": {},
   "source": [
    "### 這裡使用public data"
   ]
  },
  {
   "cell_type": "code",
   "execution_count": 21,
   "metadata": {},
   "outputs": [],
   "source": [
    "# 標準化特徵\n",
    "scaler = StandardScaler()\n",
    "X_test = scaler.fit_transform(test_data)\n",
    "\n",
    "X_test_tensor = torch.Tensor(X_test)"
   ]
  },
  {
   "cell_type": "code",
   "execution_count": 22,
   "metadata": {},
   "outputs": [
    {
     "data": {
      "text/plain": [
       "array([1.6070133 , 1.69264671, 2.732037  , ..., 1.6142353 , 1.18621662,\n",
       "       2.0275133 ])"
      ]
     },
     "execution_count": 22,
     "metadata": {},
     "output_type": "execute_result"
    }
   ],
   "source": [
    "# 使用模型進行預測\n",
    "y_pred = model.predict(X_test)\n",
    "\n",
    "# test_predictions = test_outputs.cpu().detach().numpy()\n",
    "y_pred"
   ]
  },
  {
   "cell_type": "code",
   "execution_count": 23,
   "metadata": {},
   "outputs": [],
   "source": [
    "# 读取原始CSV文件\n",
    "result = pd.read_csv('C:\\lab\\\\aigo\\\\30_Private Dataset _Private and Publict Submission Template_v2\\public_private_submission_template.csv')\n",
    "\n",
    "# 将NumPy数组的数据覆盖到第二列\n",
    "result['predicted_price'] = y_pred\n",
    "\n",
    "# 保存DataFrame回到CSV文件\n",
    "result.to_csv('C:\\lab\\\\aigo\\\\30_Private Dataset _Private and Publict Submission Template_v2\\submit\\extratree_estimators_100_1108_mape7.672704.csv', index=False)"
   ]
  },
  {
   "cell_type": "markdown",
   "metadata": {},
   "source": [
    "## 查看特徵對模型的影響力"
   ]
  },
  {
   "cell_type": "code",
   "execution_count": null,
   "metadata": {},
   "outputs": [],
   "source": [
    "feature_importance = model.feature_importance(importance_type='split')  # 或 'gain'\n",
    "#\n",
    "#  获取特征名称\n",
    "feature_names = x.columns"
   ]
  },
  {
   "cell_type": "code",
   "execution_count": null,
   "metadata": {},
   "outputs": [],
   "source": [
    "feature_importance_ranking = sorted(\n",
    "    zip(feature_names, feature_importance),\n",
    "    key=lambda x: x[1],\n",
    "    reverse=True\n",
    ")\n",
    "feature_importance_ranking"
   ]
  }
 ],
 "metadata": {
  "kernelspec": {
   "display_name": "Python 3.9.13 ('env_dl')",
   "language": "python",
   "name": "python3"
  },
  "language_info": {
   "codemirror_mode": {
    "name": "ipython",
    "version": 3
   },
   "file_extension": ".py",
   "mimetype": "text/x-python",
   "name": "python",
   "nbconvert_exporter": "python",
   "pygments_lexer": "ipython3",
   "version": "3.9.18"
  },
  "orig_nbformat": 4,
  "vscode": {
   "interpreter": {
    "hash": "6f28ba316627bf88a1f9b69b448ae526ef7d8280f19f394f39c02611b27d24d6"
   }
  }
 },
 "nbformat": 4,
 "nbformat_minor": 2
}
