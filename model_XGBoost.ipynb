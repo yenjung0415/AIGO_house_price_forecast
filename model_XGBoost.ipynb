{
 "cells": [
  {
   "cell_type": "markdown",
   "metadata": {},
   "source": [
    "## 讀檔"
   ]
  },
  {
   "cell_type": "code",
   "execution_count": 1,
   "metadata": {},
   "outputs": [
    {
     "data": {
      "text/plain": [
       "Index(['ID', '縣市', '鄉鎮市區', '路名', '土地面積', '使用分區', '移轉層次', '總樓層數', '主要用途',\n",
       "       '主要建材', '建物型態', '屋齡', '建物面積', '車位面積', '車位個數', '橫坐標', '縱坐標', '備註',\n",
       "       '主建物面積', '陽台面積', '附屬建物面積', '單價'],\n",
       "      dtype='object')"
      ]
     },
     "execution_count": 1,
     "metadata": {},
     "output_type": "execute_result"
    }
   ],
   "source": [
    "import pandas as pd\n",
    "import numpy as np\n",
    "import matplotlib.pyplot as plt\n",
    "import seaborn as sns\n",
    "\n",
    "df = pd.read_csv('C:\\lab\\\\aigo\\\\30_Training Dataset_V2\\\\training_data.csv')\n",
    "test_data = pd.read_csv('C:\\lab\\\\aigo\\\\30_Public Dataset_Public Sumission Template_v2\\public_dataset.csv')\n",
    "\n",
    "df.columns"
   ]
  },
  {
   "cell_type": "markdown",
   "metadata": {},
   "source": [
    "## 資料前處理"
   ]
  },
  {
   "cell_type": "code",
   "execution_count": 2,
   "metadata": {},
   "outputs": [],
   "source": [
    "from sklearn.preprocessing import LabelEncoder\n",
    "labelencoder = LabelEncoder()"
   ]
  },
  {
   "cell_type": "code",
   "execution_count": 3,
   "metadata": {},
   "outputs": [],
   "source": [
    "# 使用 LabelEncoder 將文字資料轉換為數值\n",
    "col_list = ['縣市', '鄉鎮市區', '路名', '主要用途', '主要建材', '建物型態']\n",
    "\n",
    "def oneHotEncode(df, col_list):\n",
    "    # for col in col_list:\n",
    "        # if(df[col].dtype == np.dtype('object')):\n",
    "        #     # pandas.get_dummies 可以对分类特征进行One-Hot编码\n",
    "        #     dummies = pd.get_dummies(df[col],prefix=col)\n",
    "        #     df = pd.concat([df,dummies],axis=1)\n",
    "\n",
    "        #     # # drop the encoded column\n",
    "        #     df.drop([col],axis = 1 , inplace=True)\n",
    "        # df_encoded = pd.get_dummies(df, columns=['Color'])\n",
    "    df = pd.get_dummies(df, columns=col_list,dtype=int)\n",
    "    return df\n",
    "\n",
    "\n",
    "def labelEncode(df, col_list):\n",
    "    for col in col_list:\n",
    "        df[col] = labelencoder.fit_transform(df[col])\n",
    "    return df\n",
    "\n",
    "\n",
    "# 處理數值特徵的偏移值\n",
    "# 將負數進行平移，使其成為正數，並與正數保持平移前的相對關係\n",
    "def offset_cal(df, col_list):\n",
    "    for col in col_list:\n",
    "        offset = abs(min(df[col]))\n",
    "        df[col] = df[col] + offset\n",
    "    return df\n"
   ]
  },
  {
   "cell_type": "code",
   "execution_count": 4,
   "metadata": {},
   "outputs": [],
   "source": [
    "# 用於解決因使用dummies導致資料得column不一致的狀態，為data加上不存在的col，並補上0的值\n",
    "def make_columns_consistent(data_1st, data_2nd, default_value = 0):\n",
    "    # 取得train data、test data的column name\n",
    "    train_columns = set(data_1st.columns)\n",
    "    test_columns = set(data_2nd.columns)\n",
    "\n",
    "    # 檢查兩個data中是否存在額外的column\n",
    "    missing_columns_1st = test_columns - train_columns\n",
    "    missing_columns_2nd = train_columns - test_columns\n",
    "\n",
    "    # 將存在於data_2nd 但不存在data_1st的column加入 data_1st，並將該值設為0\n",
    "    for col in missing_columns_1st:\n",
    "        data_1st[col] = default_value  # 可以根据问题需要设置不同的默认值\n",
    "    \n",
    "    # 將存在於data_1st 但不存在data_2nd的column加入 data_2nd，並將該值設為0\n",
    "    for col in missing_columns_2nd:\n",
    "        data_2nd[col] = default_value  # 可以根据问题需要设置不同的默认值\n",
    "\n",
    "    return data_1st,data_2nd"
   ]
  },
  {
   "cell_type": "markdown",
   "metadata": {},
   "source": [
    "#### train data 前處理"
   ]
  },
  {
   "cell_type": "code",
   "execution_count": 5,
   "metadata": {},
   "outputs": [],
   "source": [
    "col_list = ['縣市', '鄉鎮市區', '主要用途', '主要建材', '建物型態']\n",
    "df = oneHotEncode(df, col_list)\n",
    "\n",
    "col_list = ['路名']\n",
    "df = labelEncode(df, col_list)\n",
    "\n",
    "# 處理數值特徵的偏移值\n",
    "offset_col = ['土地面積', '建物面積', '車位面積', '主建物面積', '陽台面積', '附屬建物面積']\n",
    "df = offset_cal(df, offset_col)\n",
    "\n",
    "# 刪除ID、string的資料\n",
    "df = df.drop(['ID', '使用分區', '備註'], axis=1)\n",
    "\n",
    "x = df.drop(['單價'], axis=1)\n",
    "y = df['單價']"
   ]
  },
  {
   "cell_type": "markdown",
   "metadata": {},
   "source": [
    "#### test data 前處理"
   ]
  },
  {
   "cell_type": "code",
   "execution_count": 6,
   "metadata": {},
   "outputs": [],
   "source": [
    "col_list = ['縣市', '鄉鎮市區', '主要用途', '主要建材', '建物型態']\n",
    "# test_data = labelEncode(test_data, col_list)\n",
    "test_data = oneHotEncode(test_data, col_list)\n",
    "\n",
    "col_list = ['路名']\n",
    "test_data = labelEncode(test_data, col_list)\n",
    "\n",
    "# 處理數值特徵的偏移值\n",
    "offset_col = ['土地面積', '建物面積', '車位面積', '主建物面積', '陽台面積', '附屬建物面積']\n",
    "test_data = offset_cal(test_data, offset_col)\n",
    "\n",
    "# 刪除ID、string的資料\n",
    "test_data = test_data.drop(['ID', '使用分區', '備註'], axis=1)"
   ]
  },
  {
   "cell_type": "code",
   "execution_count": 7,
   "metadata": {},
   "outputs": [
    {
     "name": "stdout",
     "output_type": "stream",
     "text": [
      "x.shape:  (11751, 176)\n",
      "test_data.shape:  (5876, 168)\n"
     ]
    }
   ],
   "source": [
    "print(\"x.shape: \",x.shape)\n",
    "print(\"test_data.shape: \",test_data.shape)"
   ]
  },
  {
   "cell_type": "markdown",
   "metadata": {},
   "source": [
    "#### 解決因使用dummies導致資料得column不一致的狀態"
   ]
  },
  {
   "cell_type": "code",
   "execution_count": 8,
   "metadata": {},
   "outputs": [],
   "source": [
    "# 解決因使用dummies導致資料得column不一致的狀態\n",
    "x, test_data = make_columns_consistent(x, test_data)"
   ]
  },
  {
   "cell_type": "code",
   "execution_count": 9,
   "metadata": {},
   "outputs": [
    {
     "name": "stdout",
     "output_type": "stream",
     "text": [
      "x.shape:  (11751, 183)\n",
      "x.shape:  183\n",
      "test_data.shape:  (5876, 183)\n"
     ]
    }
   ],
   "source": [
    "print(\"x.shape: \",x.shape)\n",
    "print(\"x.shape: \",x.shape[1])\n",
    "print(\"test_data.shape: \",test_data.shape)"
   ]
  },
  {
   "cell_type": "markdown",
   "metadata": {},
   "source": [
    "## 模型訓練"
   ]
  },
  {
   "cell_type": "markdown",
   "metadata": {},
   "source": [
    "### import package、自定義dataset、定義模型"
   ]
  },
  {
   "cell_type": "code",
   "execution_count": 10,
   "metadata": {},
   "outputs": [],
   "source": [
    "import torch\n",
    "import torch.nn as nn\n",
    "import torch.optim as optim\n",
    "from sklearn.model_selection import train_test_split\n",
    "from sklearn.preprocessing import StandardScaler\n",
    "from tqdm import tqdm\n",
    "from torch.utils.data import Dataset, DataLoader\n",
    "from xgboost import XGBClassifier\n",
    "from xgboost import XGBRegressor\n",
    "import lightgbm as lgb\n",
    "from sklearn.svm import SVR\n",
    "\n",
    "class CustomDataset(Dataset):\n",
    "    def __init__(self, X, y):\n",
    "        self.X = X\n",
    "        self.y = y\n",
    "\n",
    "    def __len__(self):\n",
    "        return len(self.X)\n",
    "\n",
    "    def __getitem__(self, index):\n",
    "        return self.X[index], self.y[index]"
   ]
  },
  {
   "cell_type": "markdown",
   "metadata": {},
   "source": [
    "#### 模型"
   ]
  },
  {
   "cell_type": "markdown",
   "metadata": {},
   "source": [
    "### data進行transform及切割"
   ]
  },
  {
   "cell_type": "code",
   "execution_count": 11,
   "metadata": {},
   "outputs": [],
   "source": [
    "# 標準化特徵\n",
    "scaler = StandardScaler()\n",
    "X_train = scaler.fit_transform(x)\n",
    "\n",
    "# 將數據劃分為訓練集和測試集\n",
    "X_train, X_val, y_train, y_val = train_test_split(X_train, y, test_size=0.2, random_state=42)"
   ]
  },
  {
   "cell_type": "code",
   "execution_count": 12,
   "metadata": {},
   "outputs": [],
   "source": [
    "# print('X_train ',type(X_train))\n",
    "# print('X_val ',type(X_val))\n",
    "\n",
    "# print('y_train ',type(y_train))\n",
    "# print('y_val ',type(y_val))\n"
   ]
  },
  {
   "cell_type": "markdown",
   "metadata": {},
   "source": [
    "### 查看是否有gpu、定義loss及optimizer"
   ]
  },
  {
   "cell_type": "code",
   "execution_count": 13,
   "metadata": {},
   "outputs": [
    {
     "name": "stdout",
     "output_type": "stream",
     "text": [
      "[1]\tvalid_0's rmse: 0.920238\tvalid_0's l1: 0.669253\tvalid_0's l2: 0.846838\n",
      "[2]\tvalid_0's rmse: 0.8517\tvalid_0's l1: 0.614279\tvalid_0's l2: 0.725393\n",
      "[3]\tvalid_0's rmse: 0.791071\tvalid_0's l1: 0.565177\tvalid_0's l2: 0.625793\n",
      "[4]\tvalid_0's rmse: 0.737072\tvalid_0's l1: 0.522287\tvalid_0's l2: 0.543275\n",
      "[5]\tvalid_0's rmse: 0.688969\tvalid_0's l1: 0.484426\tvalid_0's l2: 0.474678\n",
      "[6]\tvalid_0's rmse: 0.647057\tvalid_0's l1: 0.452357\tvalid_0's l2: 0.418682\n",
      "[7]\tvalid_0's rmse: 0.610196\tvalid_0's l1: 0.423804\tvalid_0's l2: 0.372339\n",
      "[8]\tvalid_0's rmse: 0.577197\tvalid_0's l1: 0.398507\tvalid_0's l2: 0.333157\n",
      "[9]\tvalid_0's rmse: 0.548111\tvalid_0's l1: 0.376127\tvalid_0's l2: 0.300426\n",
      "[10]\tvalid_0's rmse: 0.521905\tvalid_0's l1: 0.357244\tvalid_0's l2: 0.272384\n",
      "[11]\tvalid_0's rmse: 0.500043\tvalid_0's l1: 0.341028\tvalid_0's l2: 0.250043\n",
      "[12]\tvalid_0's rmse: 0.47938\tvalid_0's l1: 0.326134\tvalid_0's l2: 0.229805\n",
      "[13]\tvalid_0's rmse: 0.462532\tvalid_0's l1: 0.313598\tvalid_0's l2: 0.213936\n",
      "[14]\tvalid_0's rmse: 0.447623\tvalid_0's l1: 0.302731\tvalid_0's l2: 0.200367\n",
      "[15]\tvalid_0's rmse: 0.434348\tvalid_0's l1: 0.29319\tvalid_0's l2: 0.188658\n",
      "[16]\tvalid_0's rmse: 0.423079\tvalid_0's l1: 0.285373\tvalid_0's l2: 0.178996\n",
      "[17]\tvalid_0's rmse: 0.413096\tvalid_0's l1: 0.278095\tvalid_0's l2: 0.170648\n",
      "[18]\tvalid_0's rmse: 0.403262\tvalid_0's l1: 0.270487\tvalid_0's l2: 0.16262\n",
      "[19]\tvalid_0's rmse: 0.394984\tvalid_0's l1: 0.264453\tvalid_0's l2: 0.156012\n",
      "[20]\tvalid_0's rmse: 0.386777\tvalid_0's l1: 0.25942\tvalid_0's l2: 0.149597\n",
      "[21]\tvalid_0's rmse: 0.379882\tvalid_0's l1: 0.254565\tvalid_0's l2: 0.14431\n",
      "[22]\tvalid_0's rmse: 0.373431\tvalid_0's l1: 0.250282\tvalid_0's l2: 0.139451\n",
      "[23]\tvalid_0's rmse: 0.367811\tvalid_0's l1: 0.246701\tvalid_0's l2: 0.135285\n",
      "[24]\tvalid_0's rmse: 0.362228\tvalid_0's l1: 0.243403\tvalid_0's l2: 0.131209\n",
      "[25]\tvalid_0's rmse: 0.357109\tvalid_0's l1: 0.240613\tvalid_0's l2: 0.127527\n",
      "[26]\tvalid_0's rmse: 0.351985\tvalid_0's l1: 0.237493\tvalid_0's l2: 0.123893\n",
      "[27]\tvalid_0's rmse: 0.348564\tvalid_0's l1: 0.235356\tvalid_0's l2: 0.121497\n",
      "[28]\tvalid_0's rmse: 0.344309\tvalid_0's l1: 0.232912\tvalid_0's l2: 0.118549\n",
      "[29]\tvalid_0's rmse: 0.341837\tvalid_0's l1: 0.23141\tvalid_0's l2: 0.116852\n",
      "[30]\tvalid_0's rmse: 0.337858\tvalid_0's l1: 0.229138\tvalid_0's l2: 0.114148\n",
      "[31]\tvalid_0's rmse: 0.333867\tvalid_0's l1: 0.226602\tvalid_0's l2: 0.111467\n",
      "[32]\tvalid_0's rmse: 0.331142\tvalid_0's l1: 0.224366\tvalid_0's l2: 0.109655\n",
      "[33]\tvalid_0's rmse: 0.328099\tvalid_0's l1: 0.222574\tvalid_0's l2: 0.107649\n",
      "[34]\tvalid_0's rmse: 0.325463\tvalid_0's l1: 0.220791\tvalid_0's l2: 0.105926\n",
      "[35]\tvalid_0's rmse: 0.32308\tvalid_0's l1: 0.219443\tvalid_0's l2: 0.10438\n",
      "[36]\tvalid_0's rmse: 0.320897\tvalid_0's l1: 0.217938\tvalid_0's l2: 0.102975\n",
      "[37]\tvalid_0's rmse: 0.31829\tvalid_0's l1: 0.216245\tvalid_0's l2: 0.101308\n",
      "[38]\tvalid_0's rmse: 0.316401\tvalid_0's l1: 0.215316\tvalid_0's l2: 0.10011\n",
      "[39]\tvalid_0's rmse: 0.314618\tvalid_0's l1: 0.214034\tvalid_0's l2: 0.0989848\n",
      "[40]\tvalid_0's rmse: 0.313041\tvalid_0's l1: 0.21338\tvalid_0's l2: 0.0979948\n",
      "[41]\tvalid_0's rmse: 0.311539\tvalid_0's l1: 0.212489\tvalid_0's l2: 0.0970566\n",
      "[42]\tvalid_0's rmse: 0.310537\tvalid_0's l1: 0.211675\tvalid_0's l2: 0.096433\n",
      "[43]\tvalid_0's rmse: 0.309733\tvalid_0's l1: 0.211182\tvalid_0's l2: 0.0959344\n",
      "[44]\tvalid_0's rmse: 0.308746\tvalid_0's l1: 0.210586\tvalid_0's l2: 0.0953238\n",
      "[45]\tvalid_0's rmse: 0.308056\tvalid_0's l1: 0.210024\tvalid_0's l2: 0.0948985\n",
      "[46]\tvalid_0's rmse: 0.306724\tvalid_0's l1: 0.20917\tvalid_0's l2: 0.0940795\n",
      "[47]\tvalid_0's rmse: 0.306054\tvalid_0's l1: 0.208737\tvalid_0's l2: 0.0936692\n",
      "[48]\tvalid_0's rmse: 0.304915\tvalid_0's l1: 0.20846\tvalid_0's l2: 0.092973\n",
      "[49]\tvalid_0's rmse: 0.303737\tvalid_0's l1: 0.207946\tvalid_0's l2: 0.0922561\n",
      "[50]\tvalid_0's rmse: 0.303074\tvalid_0's l1: 0.207394\tvalid_0's l2: 0.0918538\n",
      "[51]\tvalid_0's rmse: 0.302443\tvalid_0's l1: 0.206849\tvalid_0's l2: 0.0914719\n",
      "[52]\tvalid_0's rmse: 0.301708\tvalid_0's l1: 0.206393\tvalid_0's l2: 0.0910279\n",
      "[53]\tvalid_0's rmse: 0.301128\tvalid_0's l1: 0.206128\tvalid_0's l2: 0.0906782\n",
      "[54]\tvalid_0's rmse: 0.299711\tvalid_0's l1: 0.205494\tvalid_0's l2: 0.0898269\n",
      "[55]\tvalid_0's rmse: 0.299159\tvalid_0's l1: 0.205322\tvalid_0's l2: 0.0894963\n",
      "[56]\tvalid_0's rmse: 0.298587\tvalid_0's l1: 0.204913\tvalid_0's l2: 0.0891545\n",
      "[57]\tvalid_0's rmse: 0.297859\tvalid_0's l1: 0.204515\tvalid_0's l2: 0.0887201\n",
      "[58]\tvalid_0's rmse: 0.296841\tvalid_0's l1: 0.204107\tvalid_0's l2: 0.0881147\n",
      "[59]\tvalid_0's rmse: 0.296256\tvalid_0's l1: 0.203738\tvalid_0's l2: 0.0877678\n",
      "[60]\tvalid_0's rmse: 0.295648\tvalid_0's l1: 0.203331\tvalid_0's l2: 0.087408\n",
      "[61]\tvalid_0's rmse: 0.29463\tvalid_0's l1: 0.202618\tvalid_0's l2: 0.0868071\n",
      "[62]\tvalid_0's rmse: 0.294352\tvalid_0's l1: 0.202453\tvalid_0's l2: 0.0866429\n",
      "[63]\tvalid_0's rmse: 0.294054\tvalid_0's l1: 0.202273\tvalid_0's l2: 0.0864675\n",
      "[64]\tvalid_0's rmse: 0.293537\tvalid_0's l1: 0.202017\tvalid_0's l2: 0.0861637\n",
      "[65]\tvalid_0's rmse: 0.292611\tvalid_0's l1: 0.201833\tvalid_0's l2: 0.0856211\n",
      "[66]\tvalid_0's rmse: 0.292027\tvalid_0's l1: 0.201641\tvalid_0's l2: 0.0852798\n",
      "[67]\tvalid_0's rmse: 0.291724\tvalid_0's l1: 0.201436\tvalid_0's l2: 0.0851029\n",
      "[68]\tvalid_0's rmse: 0.290693\tvalid_0's l1: 0.200759\tvalid_0's l2: 0.0845025\n",
      "[69]\tvalid_0's rmse: 0.290297\tvalid_0's l1: 0.200833\tvalid_0's l2: 0.0842723\n",
      "[70]\tvalid_0's rmse: 0.289301\tvalid_0's l1: 0.200528\tvalid_0's l2: 0.0836952\n",
      "[71]\tvalid_0's rmse: 0.288816\tvalid_0's l1: 0.200179\tvalid_0's l2: 0.0834146\n",
      "[72]\tvalid_0's rmse: 0.288641\tvalid_0's l1: 0.200145\tvalid_0's l2: 0.0833138\n",
      "[73]\tvalid_0's rmse: 0.287581\tvalid_0's l1: 0.199842\tvalid_0's l2: 0.0827029\n",
      "[74]\tvalid_0's rmse: 0.286834\tvalid_0's l1: 0.19962\tvalid_0's l2: 0.0822736\n",
      "[75]\tvalid_0's rmse: 0.286371\tvalid_0's l1: 0.199314\tvalid_0's l2: 0.0820085\n",
      "[76]\tvalid_0's rmse: 0.28573\tvalid_0's l1: 0.19909\tvalid_0's l2: 0.0816418\n",
      "[77]\tvalid_0's rmse: 0.285402\tvalid_0's l1: 0.198858\tvalid_0's l2: 0.0814543\n",
      "[78]\tvalid_0's rmse: 0.284654\tvalid_0's l1: 0.198532\tvalid_0's l2: 0.0810281\n",
      "[79]\tvalid_0's rmse: 0.284453\tvalid_0's l1: 0.198305\tvalid_0's l2: 0.0809136\n",
      "[80]\tvalid_0's rmse: 0.284211\tvalid_0's l1: 0.198027\tvalid_0's l2: 0.0807761\n",
      "[81]\tvalid_0's rmse: 0.284005\tvalid_0's l1: 0.197898\tvalid_0's l2: 0.0806591\n",
      "[82]\tvalid_0's rmse: 0.283178\tvalid_0's l1: 0.197654\tvalid_0's l2: 0.0801897\n",
      "[83]\tvalid_0's rmse: 0.282913\tvalid_0's l1: 0.197492\tvalid_0's l2: 0.0800397\n",
      "[84]\tvalid_0's rmse: 0.282683\tvalid_0's l1: 0.197248\tvalid_0's l2: 0.0799098\n",
      "[85]\tvalid_0's rmse: 0.282346\tvalid_0's l1: 0.197043\tvalid_0's l2: 0.079719\n",
      "[86]\tvalid_0's rmse: 0.282135\tvalid_0's l1: 0.196876\tvalid_0's l2: 0.0796002\n",
      "[87]\tvalid_0's rmse: 0.281625\tvalid_0's l1: 0.196678\tvalid_0's l2: 0.0793124\n",
      "[88]\tvalid_0's rmse: 0.28151\tvalid_0's l1: 0.196564\tvalid_0's l2: 0.0792481\n",
      "[89]\tvalid_0's rmse: 0.281155\tvalid_0's l1: 0.196445\tvalid_0's l2: 0.0790481\n",
      "[90]\tvalid_0's rmse: 0.280615\tvalid_0's l1: 0.196241\tvalid_0's l2: 0.0787449\n",
      "[91]\tvalid_0's rmse: 0.280489\tvalid_0's l1: 0.196059\tvalid_0's l2: 0.0786739\n",
      "[92]\tvalid_0's rmse: 0.28043\tvalid_0's l1: 0.1959\tvalid_0's l2: 0.0786409\n",
      "[93]\tvalid_0's rmse: 0.280288\tvalid_0's l1: 0.195844\tvalid_0's l2: 0.0785611\n",
      "[94]\tvalid_0's rmse: 0.279842\tvalid_0's l1: 0.195412\tvalid_0's l2: 0.0783113\n",
      "[95]\tvalid_0's rmse: 0.279729\tvalid_0's l1: 0.195263\tvalid_0's l2: 0.0782485\n",
      "[96]\tvalid_0's rmse: 0.279214\tvalid_0's l1: 0.195057\tvalid_0's l2: 0.0779606\n",
      "[97]\tvalid_0's rmse: 0.278611\tvalid_0's l1: 0.194892\tvalid_0's l2: 0.0776239\n",
      "[98]\tvalid_0's rmse: 0.277896\tvalid_0's l1: 0.194367\tvalid_0's l2: 0.0772259\n",
      "[99]\tvalid_0's rmse: 0.277534\tvalid_0's l1: 0.194202\tvalid_0's l2: 0.0770251\n",
      "[100]\tvalid_0's rmse: 0.277359\tvalid_0's l1: 0.194002\tvalid_0's l2: 0.0769281\n"
     ]
    },
    {
     "name": "stderr",
     "output_type": "stream",
     "text": [
      "c:\\Users\\JUNG\\anaconda3\\envs\\env_dl\\lib\\site-packages\\lightgbm\\sklearn.py:726: UserWarning: 'early_stopping_rounds' argument is deprecated and will be removed in a future release of LightGBM. Pass 'early_stopping()' callback via 'callbacks' argument instead.\n",
      "  _log_warning(\"'early_stopping_rounds' argument is deprecated and will be removed in a future release of LightGBM. \"\n"
     ]
    },
    {
     "data": {
      "text/html": [
       "<style>#sk-container-id-1 {color: black;}#sk-container-id-1 pre{padding: 0;}#sk-container-id-1 div.sk-toggleable {background-color: white;}#sk-container-id-1 label.sk-toggleable__label {cursor: pointer;display: block;width: 100%;margin-bottom: 0;padding: 0.3em;box-sizing: border-box;text-align: center;}#sk-container-id-1 label.sk-toggleable__label-arrow:before {content: \"▸\";float: left;margin-right: 0.25em;color: #696969;}#sk-container-id-1 label.sk-toggleable__label-arrow:hover:before {color: black;}#sk-container-id-1 div.sk-estimator:hover label.sk-toggleable__label-arrow:before {color: black;}#sk-container-id-1 div.sk-toggleable__content {max-height: 0;max-width: 0;overflow: hidden;text-align: left;background-color: #f0f8ff;}#sk-container-id-1 div.sk-toggleable__content pre {margin: 0.2em;color: black;border-radius: 0.25em;background-color: #f0f8ff;}#sk-container-id-1 input.sk-toggleable__control:checked~div.sk-toggleable__content {max-height: 200px;max-width: 100%;overflow: auto;}#sk-container-id-1 input.sk-toggleable__control:checked~label.sk-toggleable__label-arrow:before {content: \"▾\";}#sk-container-id-1 div.sk-estimator input.sk-toggleable__control:checked~label.sk-toggleable__label {background-color: #d4ebff;}#sk-container-id-1 div.sk-label input.sk-toggleable__control:checked~label.sk-toggleable__label {background-color: #d4ebff;}#sk-container-id-1 input.sk-hidden--visually {border: 0;clip: rect(1px 1px 1px 1px);clip: rect(1px, 1px, 1px, 1px);height: 1px;margin: -1px;overflow: hidden;padding: 0;position: absolute;width: 1px;}#sk-container-id-1 div.sk-estimator {font-family: monospace;background-color: #f0f8ff;border: 1px dotted black;border-radius: 0.25em;box-sizing: border-box;margin-bottom: 0.5em;}#sk-container-id-1 div.sk-estimator:hover {background-color: #d4ebff;}#sk-container-id-1 div.sk-parallel-item::after {content: \"\";width: 100%;border-bottom: 1px solid gray;flex-grow: 1;}#sk-container-id-1 div.sk-label:hover label.sk-toggleable__label {background-color: #d4ebff;}#sk-container-id-1 div.sk-serial::before {content: \"\";position: absolute;border-left: 1px solid gray;box-sizing: border-box;top: 0;bottom: 0;left: 50%;z-index: 0;}#sk-container-id-1 div.sk-serial {display: flex;flex-direction: column;align-items: center;background-color: white;padding-right: 0.2em;padding-left: 0.2em;position: relative;}#sk-container-id-1 div.sk-item {position: relative;z-index: 1;}#sk-container-id-1 div.sk-parallel {display: flex;align-items: stretch;justify-content: center;background-color: white;position: relative;}#sk-container-id-1 div.sk-item::before, #sk-container-id-1 div.sk-parallel-item::before {content: \"\";position: absolute;border-left: 1px solid gray;box-sizing: border-box;top: 0;bottom: 0;left: 50%;z-index: -1;}#sk-container-id-1 div.sk-parallel-item {display: flex;flex-direction: column;z-index: 1;position: relative;background-color: white;}#sk-container-id-1 div.sk-parallel-item:first-child::after {align-self: flex-end;width: 50%;}#sk-container-id-1 div.sk-parallel-item:last-child::after {align-self: flex-start;width: 50%;}#sk-container-id-1 div.sk-parallel-item:only-child::after {width: 0;}#sk-container-id-1 div.sk-dashed-wrapped {border: 1px dashed gray;margin: 0 0.4em 0.5em 0.4em;box-sizing: border-box;padding-bottom: 0.4em;background-color: white;}#sk-container-id-1 div.sk-label label {font-family: monospace;font-weight: bold;display: inline-block;line-height: 1.2em;}#sk-container-id-1 div.sk-label-container {text-align: center;}#sk-container-id-1 div.sk-container {/* jupyter's `normalize.less` sets `[hidden] { display: none; }` but bootstrap.min.css set `[hidden] { display: none !important; }` so we also need the `!important` here to be able to override the default hidden behavior on the sphinx rendered scikit-learn.org. See: https://github.com/scikit-learn/scikit-learn/issues/21755 */display: inline-block !important;position: relative;}#sk-container-id-1 div.sk-text-repr-fallback {display: none;}</style><div id=\"sk-container-id-1\" class=\"sk-top-container\"><div class=\"sk-text-repr-fallback\"><pre>LGBMRegressor()</pre><b>In a Jupyter environment, please rerun this cell to show the HTML representation or trust the notebook. <br />On GitHub, the HTML representation is unable to render, please try loading this page with nbviewer.org.</b></div><div class=\"sk-container\" hidden><div class=\"sk-item\"><div class=\"sk-estimator sk-toggleable\"><input class=\"sk-toggleable__control sk-hidden--visually\" id=\"sk-estimator-id-1\" type=\"checkbox\" checked><label for=\"sk-estimator-id-1\" class=\"sk-toggleable__label sk-toggleable__label-arrow\">LGBMRegressor</label><div class=\"sk-toggleable__content\"><pre>LGBMRegressor()</pre></div></div></div></div></div>"
      ],
      "text/plain": [
       "LGBMRegressor()"
      ]
     },
     "execution_count": 13,
     "metadata": {},
     "output_type": "execute_result"
    }
   ],
   "source": [
    "# 检查是否有可用的GPU，如果有，选择第一个可用的GPU\n",
    "if torch.cuda.is_available():\n",
    "    device = torch.device(\"cuda:0\")\n",
    "else:\n",
    "    device = torch.device(\"cpu\")\n",
    "\n",
    "\n",
    "# model = XGBRegressor(learning_rate=0.1,)\n",
    "model = lgb.LGBMRegressor()\n",
    "# model = SVR(kernel='rbf', C=1.0, epsilon=0.2)\n",
    "\n",
    "model.fit(X_train, y_train, eval_set=[(X_val, y_val)], eval_metric=['rmse', 'mae'], early_stopping_rounds=10)"
   ]
  },
  {
   "cell_type": "markdown",
   "metadata": {},
   "source": [
    "## 使用欲預測的data進行test"
   ]
  },
  {
   "cell_type": "markdown",
   "metadata": {},
   "source": [
    "### 這裡使用public data"
   ]
  },
  {
   "cell_type": "code",
   "execution_count": 14,
   "metadata": {},
   "outputs": [],
   "source": [
    "# 標準化特徵\n",
    "scaler = StandardScaler()\n",
    "X_test = scaler.fit_transform(test_data)\n",
    "\n",
    "X_test_tensor = torch.Tensor(X_test)"
   ]
  },
  {
   "cell_type": "code",
   "execution_count": 15,
   "metadata": {},
   "outputs": [
    {
     "data": {
      "text/plain": [
       "array([1.46303189, 1.0324117 , 1.75153701, ..., 1.3222326 , 2.99195663,\n",
       "       1.51529917])"
      ]
     },
     "execution_count": 15,
     "metadata": {},
     "output_type": "execute_result"
    }
   ],
   "source": [
    "# 使用模型進行預測\n",
    "y_pred = model.predict(X_test)\n",
    "\n",
    "# test_predictions = test_outputs.cpu().detach().numpy()\n",
    "y_pred"
   ]
  },
  {
   "cell_type": "code",
   "execution_count": 17,
   "metadata": {},
   "outputs": [],
   "source": [
    "# 读取原始CSV文件\n",
    "df = pd.read_csv('C:\\lab\\\\aigo\\\\30_Public Dataset_Public Sumission Template_v2\\public_submission.csv')\n",
    "\n",
    "# 将NumPy数组的数据覆盖到第二列\n",
    "df['predicted_price'] = y_pred\n",
    "\n",
    "# 保存DataFrame回到CSV文件\n",
    "df.to_csv('C:\\lab\\\\aigo\\\\30_Public Dataset_Public Sumission Template_v2\\public_LightGBM.csv', index=False)"
   ]
  },
  {
   "cell_type": "markdown",
   "metadata": {},
   "source": [
    "# 快速用圖表探索資料資料"
   ]
  },
  {
   "cell_type": "code",
   "execution_count": null,
   "metadata": {},
   "outputs": [],
   "source": [
    "#使用pairplot探索數字型資料之間有沒有任何趨勢\n",
    "# sns.pairplot(df)"
   ]
  },
  {
   "cell_type": "code",
   "execution_count": null,
   "metadata": {},
   "outputs": [],
   "source": [
    "#利用distplot來看房價主要集中的區間\n",
    "# sns.distplot(df['單價'])"
   ]
  },
  {
   "cell_type": "code",
   "execution_count": null,
   "metadata": {},
   "outputs": [],
   "source": [
    "#利用df.corr()先做出各變數間的關係係數，再用heatmap作圖\n",
    "# sns.heatmap(df.corr(),annot=True)"
   ]
  }
 ],
 "metadata": {
  "kernelspec": {
   "display_name": "Python 3.9.13 ('env_dl')",
   "language": "python",
   "name": "python3"
  },
  "language_info": {
   "codemirror_mode": {
    "name": "ipython",
    "version": 3
   },
   "file_extension": ".py",
   "mimetype": "text/x-python",
   "name": "python",
   "nbconvert_exporter": "python",
   "pygments_lexer": "ipython3",
   "version": "3.9.18"
  },
  "orig_nbformat": 4,
  "vscode": {
   "interpreter": {
    "hash": "6f28ba316627bf88a1f9b69b448ae526ef7d8280f19f394f39c02611b27d24d6"
   }
  }
 },
 "nbformat": 4,
 "nbformat_minor": 2
}
