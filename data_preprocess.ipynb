{
 "cells": [
  {
   "cell_type": "code",
   "execution_count": 1,
   "metadata": {},
   "outputs": [
    {
     "data": {
      "text/plain": [
       "Index(['ID', '縣市', '鄉鎮市區', '路名', '土地面積', '使用分區', '移轉層次', '總樓層數', '主要用途',\n",
       "       '主要建材', '建物型態', '屋齡', '建物面積', '車位面積', '車位個數', '橫坐標', '縱坐標', '備註',\n",
       "       '主建物面積', '陽台面積', '附屬建物面積', '單價'],\n",
       "      dtype='object')"
      ]
     },
     "execution_count": 1,
     "metadata": {},
     "output_type": "execute_result"
    }
   ],
   "source": [
    "import pandas as pd\n",
    "import numpy as np\n",
    "import matplotlib.pyplot as plt\n",
    "import seaborn as sns\n",
    "\n",
    "df = pd.read_csv('C:\\lab\\\\aigo\\\\30_Training Dataset_V2\\\\training_data.csv')\n",
    "test_data = pd.read_csv('C:\\lab\\\\aigo\\\\30_Public Dataset_Public Sumission Template_v2\\public_dataset.csv')\n",
    "\n",
    "df.columns"
   ]
  },
  {
   "cell_type": "code",
   "execution_count": 2,
   "metadata": {},
   "outputs": [
    {
     "name": "stdout",
     "output_type": "stream",
     "text": [
      "路名\n",
      "中正路       165\n",
      "民族路        58\n",
      "文化三路一段     54\n",
      "中山路一段      48\n",
      "景平路        48\n",
      "         ... \n",
      "宜欣一路        1\n",
      "漢口街一段       1\n",
      "宜興街         1\n",
      "滿平街         1\n",
      "福田三街        1\n",
      "Name: count, Length: 3059, dtype: int64\n"
     ]
    }
   ],
   "source": [
    "count = df.value_counts('路名')\n",
    "print(count)"
   ]
  },
  {
   "cell_type": "code",
   "execution_count": 3,
   "metadata": {},
   "outputs": [
    {
     "name": "stdout",
     "output_type": "stream",
     "text": [
      "     縣市    縣市最低單價     縣市最高單價    縣市平均單價   縣市單價中位數\n",
      "0   台中市  0.669278   3.339466  1.473137  1.418804\n",
      "1   台北市  0.856659  12.263516  3.395855  3.222352\n",
      "2   台南市  0.177415  13.622033  1.233745  1.161154\n",
      "3   嘉義市  0.669278   1.189262  0.816754  0.809814\n",
      "4   嘉義縣  0.622432   0.997195  0.809814  0.809814\n",
      "5   基隆市  0.575587   2.051217  1.036863  0.973773\n",
      "6   宜蘭縣  0.622432   1.980949  1.098314  1.020618\n",
      "7   屏東縣  0.603694   1.104940  0.791844  0.762968\n",
      "8   彰化縣  0.739546   1.348536  0.927538  0.926927\n",
      "9   新北市  0.435051   4.393487  1.976991  1.934104\n",
      "10  新竹市  0.631801   3.034971  1.670579  1.582763\n",
      "11  新竹縣  0.599009   3.034971  1.839481  1.873205\n",
      "12  桃園市  0.177415   2.496248  1.322870  1.301691\n",
      "13  花蓮縣  0.762968   1.442227  1.053800  1.055752\n",
      "14  苗栗縣  0.659908   1.582763  1.078903  1.058094\n",
      "15  金門縣  0.856659   1.582763  1.171773  1.149443\n",
      "16  雲林縣  0.435051   0.622432  0.528741  0.528741\n",
      "17  高雄市  0.285145   2.285444  1.252643  1.245476\n",
      "      縣市 鄉鎮市區  鄉鎮市區最低單價  鄉鎮市區最高單價  鄉鎮市區平均單價  鄉鎮市區單價中位數\n",
      "0    台中市   中區  0.809814  0.856659  0.825429   0.809814\n",
      "1    台中市   北區  0.669278  2.027794  1.333434   1.325113\n",
      "2    台中市  北屯區  0.856659  2.332290  1.441358   1.418804\n",
      "3    台中市   南區  0.833236  1.957526  1.275287   1.184577\n",
      "4    台中市  南屯區  0.926927  2.519671  1.644315   1.629608\n",
      "..   ...  ...       ...       ...       ...        ...\n",
      "124  高雄市  苓雅區  0.716123  1.957526  1.189549   1.111967\n",
      "125  高雄市  鳥松區  1.081517  1.699877  1.422903   1.444569\n",
      "126  高雄市  鳳山區  0.599009  1.606186  1.088689   1.090886\n",
      "127  高雄市  鹽埕區  0.809814  1.489072  1.094165   1.006564\n",
      "128  高雄市  鼓山區  0.762968  2.285444  1.482342   1.465649\n",
      "\n",
      "[129 rows x 6 columns]\n",
      "       縣市 鄉鎮市區     路名   該路段最低單價   該路段最高單價   該路段平均單價  該路段單價中位數\n",
      "0     台中市   中區  三民路二段  0.856659  0.856659  0.856659  0.856659\n",
      "1     台中市   中區    成功路  0.809814  0.809814  0.809814  0.809814\n",
      "2     台中市   中區    民族路  0.809814  0.809814  0.809814  0.809814\n",
      "3     台中市   北區  三民路三段  1.044041  1.254845  1.149443  1.149443\n",
      "4     台中市   北區  中清路一段  0.950350  0.950350  0.950350  0.950350\n",
      "...   ...  ...    ...       ...       ...       ...       ...\n",
      "3747  高雄市  鼓山區   鼓山三路  1.231422  1.231422  1.231422  1.231422\n",
      "3748  高雄市  鼓山區    龍勝路  1.208000  1.910681  1.622582  1.629608\n",
      "3749  高雄市  鼓山區    龍德路  1.278268  1.699877  1.531233  1.538260\n",
      "3750  高雄市  鼓山區    龍文街  1.582763  1.629608  1.606186  1.606186\n",
      "3751  高雄市  鼓山區   龍水二路  1.418804  1.957526  1.629608  1.599159\n",
      "\n",
      "[3752 rows x 7 columns]\n"
     ]
    }
   ],
   "source": [
    "group_city = df.groupby(['縣市'])['單價'].agg(['min', 'max', 'mean', 'median']).reset_index()\n",
    "group_city = group_city.rename(columns={'min': '縣市最低單價', 'max': '縣市最高單價', 'mean':'縣市平均單價', 'median':'縣市單價中位數'})\n",
    "print(group_city)\n",
    "\n",
    "group_Township = df.groupby(['縣市', '鄉鎮市區'])['單價'].agg(['min', 'max', 'mean', 'median']).reset_index()\n",
    "group_Township = group_Township.rename(columns={'min': '鄉鎮市區最低單價', 'max': '鄉鎮市區最高單價', 'mean':'鄉鎮市區平均單價', 'median':'鄉鎮市區單價中位數'})\n",
    "print(group_Township)\n",
    "\n",
    "group_road = df.groupby(['縣市', '鄉鎮市區', '路名'])['單價'].agg(['min', 'max', 'mean', 'median']).reset_index()\n",
    "group_road = group_road.rename(columns={'min': '該路段最低單價', 'max': '該路段最高單價', 'mean':'該路段平均單價', 'median':'該路段單價中位數'})\n",
    "print(group_road)"
   ]
  },
  {
   "cell_type": "code",
   "execution_count": 4,
   "metadata": {},
   "outputs": [],
   "source": [
    "# 将处理后的数据连接回原始DataFrame\n",
    "df = df.merge(group_city, on=['縣市'], how='left')\n",
    "df = df.merge(group_Township, on=['縣市', '鄉鎮市區'], how='left')\n",
    "df = df.merge(group_road, on=['縣市', '鄉鎮市區', '路名'], how='left')\n"
   ]
  },
  {
   "cell_type": "code",
   "execution_count": 5,
   "metadata": {},
   "outputs": [
    {
     "name": "stdout",
     "output_type": "stream",
     "text": [
      "(11751, 34)\n",
      "(5876, 21)\n"
     ]
    },
    {
     "data": {
      "text/plain": [
       "{'單價',\n",
       " '縣市單價中位數',\n",
       " '縣市平均單價',\n",
       " '縣市最低單價',\n",
       " '縣市最高單價',\n",
       " '該路段單價中位數',\n",
       " '該路段平均單價',\n",
       " '該路段最低單價',\n",
       " '該路段最高單價',\n",
       " '鄉鎮市區單價中位數',\n",
       " '鄉鎮市區平均單價',\n",
       " '鄉鎮市區最低單價',\n",
       " '鄉鎮市區最高單價'}"
      ]
     },
     "execution_count": 5,
     "metadata": {},
     "output_type": "execute_result"
    }
   ],
   "source": [
    "print(df.shape)\n",
    "print(test_data.shape)\n",
    "\n",
    "train_columns = set(df.columns)\n",
    "test_columns = set(test_data.columns)\n",
    "train_columns-test_columns"
   ]
  },
  {
   "cell_type": "code",
   "execution_count": 6,
   "metadata": {},
   "outputs": [],
   "source": [
    "# test data 也許含有train data的縣市鄉鎮等地區的平均單價、最高單價、最低單價、單價中位數\n",
    "test_data = test_data.merge(group_city, on=['縣市'], how='left')\n",
    "test_data = test_data.merge(group_Township, on=['縣市', '鄉鎮市區'], how='left')\n",
    "test_data = test_data.merge(group_road, on=['縣市', '鄉鎮市區', '路名'], how='left')"
   ]
  },
  {
   "cell_type": "code",
   "execution_count": 7,
   "metadata": {},
   "outputs": [
    {
     "name": "stdout",
     "output_type": "stream",
     "text": [
      "(11751, 34)\n",
      "(5876, 33)\n"
     ]
    },
    {
     "data": {
      "text/plain": [
       "{'單價'}"
      ]
     },
     "execution_count": 7,
     "metadata": {},
     "output_type": "execute_result"
    }
   ],
   "source": [
    "print(df.shape)\n",
    "print(test_data.shape)\n",
    "\n",
    "train_columns = set(df.columns)\n",
    "test_columns = set(test_data.columns)\n",
    "train_columns-test_columns"
   ]
  },
  {
   "cell_type": "code",
   "execution_count": 8,
   "metadata": {},
   "outputs": [],
   "source": [
    "df.to_csv('C:\\lab\\\\aigo\\\\30_Training Dataset_V2\\\\training_data_processed.csv', index=False)\n",
    "test_data.to_csv('C:\\lab\\\\aigo\\\\30_Public Dataset_Public Sumission Template_v2\\public_dataset_processed.csv', index=False)"
   ]
  },
  {
   "cell_type": "markdown",
   "metadata": {},
   "source": [
    "## 資料前處理"
   ]
  },
  {
   "cell_type": "code",
   "execution_count": null,
   "metadata": {},
   "outputs": [],
   "source": [
    "from sklearn.preprocessing import LabelEncoder\n",
    "labelencoder = LabelEncoder()"
   ]
  },
  {
   "cell_type": "code",
   "execution_count": null,
   "metadata": {},
   "outputs": [],
   "source": [
    "# 使用 LabelEncoder 將文字資料轉換為數值\n",
    "col_list = ['縣市', '鄉鎮市區', '路名', '主要用途', '主要建材', '建物型態']\n",
    "\n",
    "def oneHotEncode(df, col_list):\n",
    "    df = pd.get_dummies(df, columns=col_list,dtype=int)\n",
    "    return df\n",
    "\n",
    "\n",
    "def labelEncode(df, col_list):\n",
    "    for col in col_list:\n",
    "        df[col] = labelencoder.fit_transform(df[col])\n",
    "    return df\n",
    "\n",
    "\n",
    "# 處理數值特徵的偏移值\n",
    "# 將負數進行平移，使其成為正數，並與正數保持平移前的相對關係\n",
    "def offset_cal(df, col_list):\n",
    "    for col in col_list:\n",
    "        offset = abs(min(df[col]))\n",
    "        df[col] = df[col] + offset\n",
    "    return df\n"
   ]
  },
  {
   "cell_type": "code",
   "execution_count": null,
   "metadata": {},
   "outputs": [],
   "source": [
    "# 用於解決因使用dummies導致資料得column不一致的狀態，為data加上不存在的col，並補上0的值\n",
    "def make_columns_consistent(data_1st, data_2nd, default_value = 0):\n",
    "    # 取得train data、test data的column name\n",
    "    train_columns = set(data_1st.columns)\n",
    "    test_columns = set(data_2nd.columns)\n",
    "\n",
    "    # 檢查兩個data中是否存在額外的column\n",
    "    missing_columns_1st = test_columns - train_columns\n",
    "    missing_columns_2nd = train_columns - test_columns\n",
    "\n",
    "    # 將存在於data_2nd 但不存在data_1st的column加入 data_1st，並將該值設為0\n",
    "    for col in missing_columns_1st:\n",
    "        data_1st[col] = default_value  # 可以根据问题需要设置不同的默认值\n",
    "    \n",
    "    # 將存在於data_1st 但不存在data_2nd的column加入 data_2nd，並將該值設為0\n",
    "    for col in missing_columns_2nd:\n",
    "        data_2nd[col] = default_value  # 可以根据问题需要设置不同的默认值\n",
    "\n",
    "    return data_1st,data_2nd"
   ]
  },
  {
   "cell_type": "markdown",
   "metadata": {},
   "source": [
    "#### train data 前處理"
   ]
  },
  {
   "cell_type": "code",
   "execution_count": null,
   "metadata": {},
   "outputs": [],
   "source": [
    "col_list = ['縣市', '鄉鎮市區', '主要用途', '主要建材', '建物型態']\n",
    "df = oneHotEncode(df, col_list)\n",
    "\n",
    "col_list = ['路名']\n",
    "df = labelEncode(df, col_list)\n",
    "\n",
    "# 處理數值特徵的偏移值\n",
    "offset_col = ['土地面積', '建物面積', '車位面積', '主建物面積', '陽台面積', '附屬建物面積']\n",
    "df = offset_cal(df, offset_col)\n",
    "\n",
    "# 刪除ID、string的資料\n",
    "df = df.drop(['ID', '使用分區', '備註'], axis=1)\n",
    "\n",
    "x = df.drop(['單價'], axis=1)\n",
    "y = df['單價']"
   ]
  },
  {
   "cell_type": "markdown",
   "metadata": {},
   "source": [
    "#### test data 前處理"
   ]
  },
  {
   "cell_type": "code",
   "execution_count": null,
   "metadata": {},
   "outputs": [],
   "source": [
    "col_list = ['縣市', '鄉鎮市區', '主要用途', '主要建材', '建物型態']\n",
    "# test_data = labelEncode(test_data, col_list)\n",
    "test_data = oneHotEncode(test_data, col_list)\n",
    "\n",
    "col_list = ['路名']\n",
    "test_data = labelEncode(test_data, col_list)\n",
    "\n",
    "# 處理數值特徵的偏移值\n",
    "offset_col = ['土地面積', '建物面積', '車位面積', '主建物面積', '陽台面積', '附屬建物面積']\n",
    "test_data = offset_cal(test_data, offset_col)\n",
    "\n",
    "# 刪除ID、string的資料\n",
    "test_data = test_data.drop(['ID', '使用分區', '備註'], axis=1)"
   ]
  },
  {
   "cell_type": "code",
   "execution_count": null,
   "metadata": {},
   "outputs": [],
   "source": [
    "print(\"x.shape: \",x.shape)\n",
    "print(\"test_data.shape: \",test_data.shape)"
   ]
  },
  {
   "cell_type": "code",
   "execution_count": null,
   "metadata": {},
   "outputs": [],
   "source": [
    "# 解決因使用dummies導致資料得column不一致的狀態\n",
    "x, test_data = make_columns_consistent(x, test_data)"
   ]
  },
  {
   "cell_type": "code",
   "execution_count": null,
   "metadata": {},
   "outputs": [],
   "source": [
    "print(\"x.shape: \",x.shape)\n",
    "print(\"x.shape: \",x.shape[1])\n",
    "print(\"test_data.shape: \",test_data.shape)"
   ]
  },
  {
   "cell_type": "code",
   "execution_count": null,
   "metadata": {},
   "outputs": [],
   "source": []
  }
 ],
 "metadata": {
  "kernelspec": {
   "display_name": "Python 3.9.18 ('env_dl')",
   "language": "python",
   "name": "python3"
  },
  "language_info": {
   "codemirror_mode": {
    "name": "ipython",
    "version": 3
   },
   "file_extension": ".py",
   "mimetype": "text/x-python",
   "name": "python",
   "nbconvert_exporter": "python",
   "pygments_lexer": "ipython3",
   "version": "3.9.18"
  },
  "orig_nbformat": 4,
  "vscode": {
   "interpreter": {
    "hash": "6f28ba316627bf88a1f9b69b448ae526ef7d8280f19f394f39c02611b27d24d6"
   }
  }
 },
 "nbformat": 4,
 "nbformat_minor": 2
}
