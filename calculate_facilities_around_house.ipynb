{
 "cells": [
  {
   "cell_type": "code",
   "execution_count": null,
   "metadata": {},
   "outputs": [],
   "source": [
    "import pandas as pd\n",
    "from geopy.distance import geodesic\n",
    "\n",
    "def calculate_distance(house_data, facilities_data, search_radius_km=5):\n",
    "    # 创建空的结果列\n",
    "    house_data['facilities_within_radius'] = 0\n",
    "\n",
    "    # 遍历每个房子\n",
    "    for idx, house_row in house_data.iterrows():\n",
    "        house_coord = (house_row['WGS84_LAT'], house_row['WGS84_LON'])\n",
    "\n",
    "        # 遍历每所学校\n",
    "        for facilities_idx, school_row in facilities_data.iterrows():\n",
    "            facilities_coord = (school_row['lat'], school_row['lng'])\n",
    "\n",
    "            # 计算距离并检查是否在搜索半径内\n",
    "            distance = geodesic(house_coord, facilities_coord).kilometers\n",
    "            if distance <= search_radius_km:\n",
    "                house_data.at[idx, 'facilities_within_radius'] += 1\n",
    "\n",
    "    return house_data\n"
   ]
  },
  {
   "cell_type": "code",
   "execution_count": null,
   "metadata": {},
   "outputs": [],
   "source": [
    "house_df = pd.read_csv('C:\\lab\\\\aigo\\\\30_Training Dataset_V2\\\\training_data_processed.csv')\n",
    "external_data = pd.read_csv('C:\\lab\\\\aigo\\\\30_Training Dataset_V2\\external_data_process\\ATM資料.csv')"
   ]
  },
  {
   "cell_type": "code",
   "execution_count": null,
   "metadata": {},
   "outputs": [],
   "source": [
    "print(house_df.columns)\n",
    "external_data.columns\n",
    "print()"
   ]
  },
  {
   "cell_type": "code",
   "execution_count": null,
   "metadata": {},
   "outputs": [],
   "source": [
    "house_df = calculate_distance(house_df, external_data, search_radius_km=0.5)\n",
    "house_df"
   ]
  },
  {
   "cell_type": "code",
   "execution_count": null,
   "metadata": {},
   "outputs": [],
   "source": [
    "house_df.rename(columns={\"facilities_within_radius\": \"ATM數量\"}, inplace=True)\n",
    "house_df"
   ]
  },
  {
   "cell_type": "code",
   "execution_count": null,
   "metadata": {},
   "outputs": [],
   "source": [
    "house_df.to_csv('C:\\lab\\\\aigo\\\\30_Training Dataset_V2\\\\training_data_processed.csv', index = False)"
   ]
  }
 ],
 "metadata": {
  "kernelspec": {
   "display_name": "Python 3.9.18 ('env_dl')",
   "language": "python",
   "name": "python3"
  },
  "language_info": {
   "codemirror_mode": {
    "name": "ipython",
    "version": 3
   },
   "file_extension": ".py",
   "mimetype": "text/x-python",
   "name": "python",
   "nbconvert_exporter": "python",
   "pygments_lexer": "ipython3",
   "version": "3.9.18"
  },
  "orig_nbformat": 4,
  "vscode": {
   "interpreter": {
    "hash": "6f28ba316627bf88a1f9b69b448ae526ef7d8280f19f394f39c02611b27d24d6"
   }
  }
 },
 "nbformat": 4,
 "nbformat_minor": 2
}
