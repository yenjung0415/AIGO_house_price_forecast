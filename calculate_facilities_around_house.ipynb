{
 "cells": [
  {
   "cell_type": "code",
   "execution_count": null,
   "metadata": {},
   "outputs": [],
   "source": [
    "import pandas as pd\n",
    "from geopy.distance import geodesic\n",
    "\n",
    "# 假设你有以下数据框架来表示房子和国小\n",
    "# 你需要确保房子数据框架有 '經度' 和 '緯度' 列，表示房子的经度和纬度坐标\n",
    "# 同样，国小数据框架也需要有 '經度' 和 '緯度' 列，表示国小的经度和纬度坐标\n",
    "\n",
    "# 创建一个示例的房子数据框架\n",
    "house_data = pd.DataFrame({\n",
    "    '屋齡': [5, 10, 15, 8],\n",
    "    '房價': [2000000, 1800000, 1500000, 2200000],\n",
    "    '經度': [121.565, 121.371, 121.511, 121.600],\n",
    "    '緯度': [25.032, 24.948, 25.109, 24.987]\n",
    "})\n",
    "\n",
    "# 创建示例的国小数据框架\n",
    "school_data = pd.DataFrame({\n",
    "    '經度': [121.57, 121.37, 121.51, 121.58],\n",
    "    '緯度': [25.03, 24.95, 25.11, 24.98],\n",
    "    '學校名稱': ['國小A', '國小B', '國小C', '國小D']\n",
    "})\n",
    "\n",
    "# 指定搜索半径（以公里为单位）\n",
    "search_radius_km = 5\n",
    "\n",
    "# 用于计算两个坐标之间的距离的函数\n",
    "def calculate_distance(row):\n",
    "    house_coord = (row['緯度'], row['經度'])\n",
    "    school_coords = school_data.apply(lambda x: (x['緯度'], x['經度']), axis=1)\n",
    "    distances = [geodesic(house_coord, coord).kilometers for coord in school_coords]\n",
    "    return len([dist for dist in distances if dist <= search_radius_km])\n",
    "\n",
    "# 在房子数据框架上应用计算距离的函数\n",
    "house_data['附近的國小數量'] = house_data.apply(calculate_distance, axis=1)\n",
    "\n",
    "# 打印房子数据框架，显示附近的国小数量\n",
    "house_data\n"
   ]
  }
 ],
 "metadata": {
  "kernelspec": {
   "display_name": "Python 3.9.18 ('env_dl')",
   "language": "python",
   "name": "python3"
  },
  "language_info": {
   "codemirror_mode": {
    "name": "ipython",
    "version": 3
   },
   "file_extension": ".py",
   "mimetype": "text/x-python",
   "name": "python",
   "nbconvert_exporter": "python",
   "pygments_lexer": "ipython3",
   "version": "3.9.18"
  },
  "orig_nbformat": 4,
  "vscode": {
   "interpreter": {
    "hash": "6f28ba316627bf88a1f9b69b448ae526ef7d8280f19f394f39c02611b27d24d6"
   }
  }
 },
 "nbformat": 4,
 "nbformat_minor": 2
}
